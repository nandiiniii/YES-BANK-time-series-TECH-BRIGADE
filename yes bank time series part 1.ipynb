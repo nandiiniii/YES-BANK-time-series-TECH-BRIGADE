{
 "cells": [
  {
   "cell_type": "raw",
   "id": "b453d728",
   "metadata": {},
   "source": [
    "Yes Bank is a well-known bank in the Indian financial domain. Since 2018, it has been in the\n",
    "news because of the fraud case involving Rana Kapoor. Owing to this fact, it was interesting\n",
    "to see how that impacted the stock prices of the company and whether Time series models\n",
    "or any other predictive models can do justice to such situations. This dataset has monthly\n",
    "stock prices of the bank since its inception and includes closing, starting, highest, and lowest\n",
    "stock prices of every month. The main objective is to predict the stock’s closing price of the\n",
    "month."
   ]
  },
  {
   "cell_type": "markdown",
   "id": "6fa838b0",
   "metadata": {},
   "source": [
    "# comment in each code cell\n",
    "# modularity of code\n",
    "# github commits regular\n",
    "# EDA and visualisation\n",
    "# hyper parameter tuning\n",
    "# proper output formatting\n",
    "# final summary or conclusion\n",
    "# number of model experimented\n",
    "# prediction and calculate some evaluation matrix for model\n",
    "# video presentation \n",
    "# accuracy grammar and PPT\n",
    "# summary and final documentation\n",
    "# "
   ]
  },
  {
   "cell_type": "code",
   "execution_count": 5,
   "id": "ff6f2bb8",
   "metadata": {},
   "outputs": [],
   "source": [
    "import numpy as np\n",
    "import pandas as pd\n",
    "import matplotlib.pyplot as plt\n",
    "import seaborn as sns\n",
    "from warnings import filterwarnings\n",
    "import datetime as dt\n",
    "import matplotlib.dates as mdates\n",
    "import requests"
   ]
  },
  {
   "cell_type": "code",
   "execution_count": 2,
   "id": "1ab78320",
   "metadata": {},
   "outputs": [
    {
     "data": {
      "text/html": [
       "<div>\n",
       "<style scoped>\n",
       "    .dataframe tbody tr th:only-of-type {\n",
       "        vertical-align: middle;\n",
       "    }\n",
       "\n",
       "    .dataframe tbody tr th {\n",
       "        vertical-align: top;\n",
       "    }\n",
       "\n",
       "    .dataframe thead th {\n",
       "        text-align: right;\n",
       "    }\n",
       "</style>\n",
       "<table border=\"1\" class=\"dataframe\">\n",
       "  <thead>\n",
       "    <tr style=\"text-align: right;\">\n",
       "      <th></th>\n",
       "      <th>Open</th>\n",
       "      <th>High</th>\n",
       "      <th>Low</th>\n",
       "      <th>Close</th>\n",
       "    </tr>\n",
       "    <tr>\n",
       "      <th>Date</th>\n",
       "      <th></th>\n",
       "      <th></th>\n",
       "      <th></th>\n",
       "      <th></th>\n",
       "    </tr>\n",
       "  </thead>\n",
       "  <tbody>\n",
       "    <tr>\n",
       "      <th>Jul-05</th>\n",
       "      <td>13.00</td>\n",
       "      <td>14.00</td>\n",
       "      <td>11.25</td>\n",
       "      <td>12.46</td>\n",
       "    </tr>\n",
       "    <tr>\n",
       "      <th>Aug-05</th>\n",
       "      <td>12.58</td>\n",
       "      <td>14.88</td>\n",
       "      <td>12.55</td>\n",
       "      <td>13.42</td>\n",
       "    </tr>\n",
       "    <tr>\n",
       "      <th>Sep-05</th>\n",
       "      <td>13.48</td>\n",
       "      <td>14.87</td>\n",
       "      <td>12.27</td>\n",
       "      <td>13.30</td>\n",
       "    </tr>\n",
       "  </tbody>\n",
       "</table>\n",
       "</div>"
      ],
      "text/plain": [
       "         Open   High    Low  Close\n",
       "Date                              \n",
       "Jul-05  13.00  14.00  11.25  12.46\n",
       "Aug-05  12.58  14.88  12.55  13.42\n",
       "Sep-05  13.48  14.87  12.27  13.30"
      ]
     },
     "execution_count": 2,
     "metadata": {},
     "output_type": "execute_result"
    }
   ],
   "source": [
    "yes=pd.read_csv(\"yesbank.csv\",index_col=\"Date\")\n",
    "yes.head(3)"
   ]
  },
  {
   "cell_type": "code",
   "execution_count": 3,
   "id": "a9491c86",
   "metadata": {},
   "outputs": [
    {
     "name": "stdout",
     "output_type": "stream",
     "text": [
      "<class 'pandas.core.frame.DataFrame'>\n",
      "Index: 185 entries, Jul-05 to Nov-20\n",
      "Data columns (total 4 columns):\n",
      " #   Column  Non-Null Count  Dtype  \n",
      "---  ------  --------------  -----  \n",
      " 0   Open    185 non-null    float64\n",
      " 1   High    185 non-null    float64\n",
      " 2   Low     185 non-null    float64\n",
      " 3   Close   185 non-null    float64\n",
      "dtypes: float64(4)\n",
      "memory usage: 7.2+ KB\n"
     ]
    },
    {
     "data": {
      "text/plain": [
       "Index(['Open', 'High', 'Low', 'Close'], dtype='object')"
      ]
     },
     "execution_count": 3,
     "metadata": {},
     "output_type": "execute_result"
    }
   ],
   "source": [
    "yes.info()\n",
    "yes.columns"
   ]
  },
  {
   "cell_type": "code",
   "execution_count": 4,
   "id": "db21d71e",
   "metadata": {},
   "outputs": [
    {
     "data": {
      "text/plain": [
       "(185, 4)"
      ]
     },
     "execution_count": 4,
     "metadata": {},
     "output_type": "execute_result"
    }
   ],
   "source": [
    "yes.shape"
   ]
  },
  {
   "cell_type": "code",
   "execution_count": 5,
   "id": "e904f650",
   "metadata": {},
   "outputs": [
    {
     "data": {
      "text/plain": [
       "Open     0\n",
       "High     0\n",
       "Low      0\n",
       "Close    0\n",
       "dtype: int64"
      ]
     },
     "execution_count": 5,
     "metadata": {},
     "output_type": "execute_result"
    }
   ],
   "source": [
    "yes.isnull().sum()"
   ]
  },
  {
   "cell_type": "code",
   "execution_count": 6,
   "id": "676f02c3",
   "metadata": {},
   "outputs": [
    {
     "data": {
      "text/plain": [
       "<function matplotlib.pyplot.show(close=None, block=None)>"
      ]
     },
     "execution_count": 6,
     "metadata": {},
     "output_type": "execute_result"
    },
    {
     "data": {
      "image/png": "[encoded data removed]",
      "text/plain": [
       "<Figure size 432x288 with 1 Axes>"
      ]
     },
     "metadata": {
      "needs_background": "light"
     },
     "output_type": "display_data"
    }
   ],
   "source": [
    "\n",
    "yes[[\"Close\"]].plot()\n",
    "plt.title(\"YES bank\")\n",
    "plt.show\n"
   ]
  },
  {
   "cell_type": "code",
   "execution_count": 7,
   "id": "1524c613",
   "metadata": {},
   "outputs": [],
   "source": [
    "num=yes.select_dtypes(include='number')"
   ]
  },
  {
   "cell_type": "markdown",
   "id": "6172ad91",
   "metadata": {},
   "source": [
    "# scaling"
   ]
  },
  {
   "cell_type": "code",
   "execution_count": 8,
   "id": "965c14a0",
   "metadata": {},
   "outputs": [],
   "source": [
    "#from sklearn.preprocessing import StandardScaler\n",
    "#ss=StandardScaler()"
   ]
  },
  {
   "cell_type": "code",
   "execution_count": 9,
   "id": "217a6e3b",
   "metadata": {},
   "outputs": [],
   "source": [
    "#scaled=ss.fit_transform(yes)"
   ]
  },
  {
   "cell_type": "code",
   "execution_count": 10,
   "id": "48619d1a",
   "metadata": {},
   "outputs": [],
   "source": [
    "#scalled=pd.DataFrame(scaled,columns=['Open', 'High', 'Low', 'Close'])"
   ]
  },
  {
   "cell_type": "code",
   "execution_count": 11,
   "id": "af4beb84",
   "metadata": {},
   "outputs": [],
   "source": [
    "#scalled"
   ]
  },
  {
   "cell_type": "code",
   "execution_count": 12,
   "id": "b35ed865",
   "metadata": {},
   "outputs": [],
   "source": [
    "target=yes['Close']"
   ]
  },
  {
   "cell_type": "code",
   "execution_count": 13,
   "id": "5e01ba59",
   "metadata": {},
   "outputs": [],
   "source": [
    "yes1=yes.drop('Close',axis=1)"
   ]
  },
  {
   "cell_type": "code",
   "execution_count": 20,
   "id": "a2c327cf",
   "metadata": {},
   "outputs": [
    {
     "data": {
      "text/html": [
       "<div>\n",
       "<style scoped>\n",
       "    .dataframe tbody tr th:only-of-type {\n",
       "        vertical-align: middle;\n",
       "    }\n",
       "\n",
       "    .dataframe tbody tr th {\n",
       "        vertical-align: top;\n",
       "    }\n",
       "\n",
       "    .dataframe thead th {\n",
       "        text-align: right;\n",
       "    }\n",
       "</style>\n",
       "<table border=\"1\" class=\"dataframe\">\n",
       "  <thead>\n",
       "    <tr style=\"text-align: right;\">\n",
       "      <th></th>\n",
       "      <th>Open</th>\n",
       "      <th>High</th>\n",
       "      <th>Low</th>\n",
       "    </tr>\n",
       "    <tr>\n",
       "      <th>Date</th>\n",
       "      <th></th>\n",
       "      <th></th>\n",
       "      <th></th>\n",
       "    </tr>\n",
       "  </thead>\n",
       "  <tbody>\n",
       "    <tr>\n",
       "      <th>Jul-05</th>\n",
       "      <td>13.00</td>\n",
       "      <td>14.00</td>\n",
       "      <td>11.25</td>\n",
       "    </tr>\n",
       "    <tr>\n",
       "      <th>Aug-05</th>\n",
       "      <td>12.58</td>\n",
       "      <td>14.88</td>\n",
       "      <td>12.55</td>\n",
       "    </tr>\n",
       "    <tr>\n",
       "      <th>Sep-05</th>\n",
       "      <td>13.48</td>\n",
       "      <td>14.87</td>\n",
       "      <td>12.27</td>\n",
       "    </tr>\n",
       "    <tr>\n",
       "      <th>Oct-05</th>\n",
       "      <td>13.20</td>\n",
       "      <td>14.47</td>\n",
       "      <td>12.40</td>\n",
       "    </tr>\n",
       "    <tr>\n",
       "      <th>Nov-05</th>\n",
       "      <td>13.35</td>\n",
       "      <td>13.88</td>\n",
       "      <td>12.88</td>\n",
       "    </tr>\n",
       "  </tbody>\n",
       "</table>\n",
       "</div>"
      ],
      "text/plain": [
       "         Open   High    Low\n",
       "Date                       \n",
       "Jul-05  13.00  14.00  11.25\n",
       "Aug-05  12.58  14.88  12.55\n",
       "Sep-05  13.48  14.87  12.27\n",
       "Oct-05  13.20  14.47  12.40\n",
       "Nov-05  13.35  13.88  12.88"
      ]
     },
     "execution_count": 20,
     "metadata": {},
     "output_type": "execute_result"
    }
   ],
   "source": [
    "yes1.head()"
   ]
  },
  {
   "cell_type": "code",
   "execution_count": 22,
   "id": "28244549",
   "metadata": {},
   "outputs": [],
   "source": [
    "x_full=yes1\n",
    "y_full=target\n",
    "x_full = sm.add_constant(x_full)"
   ]
  },
  {
   "cell_type": "code",
   "execution_count": 23,
   "id": "f9d14ae7",
   "metadata": {},
   "outputs": [],
   "source": [
    "from sklearn.model_selection import train_test_split"
   ]
  },
  {
   "cell_type": "code",
   "execution_count": 24,
   "id": "1b4fd232",
   "metadata": {},
   "outputs": [],
   "source": [
    "x_train,x_test,y_train,y_test=train_test_split(x_full,y_full,random_state=1,test_size=0.3)"
   ]
  },
  {
   "cell_type": "code",
   "execution_count": 25,
   "id": "b40a5a49",
   "metadata": {},
   "outputs": [
    {
     "name": "stdout",
     "output_type": "stream",
     "text": [
      "X_train_full (129, 4)\n",
      "y_train_full (129,)\n",
      "X_test_full (56, 4)\n",
      "y_test_full (56,)\n"
     ]
    }
   ],
   "source": [
    "\n",
    "# checking the dimensions of the train & test subset\n",
    "# print dimension of train set\n",
    "print('X_train_full', x_train.shape)\n",
    "print('y_train_full', y_train.shape)\n",
    "\n",
    "# print dimension of test set\n",
    "print('X_test_full', x_test.shape)\n",
    "print('y_test_full', y_test.shape)"
   ]
  },
  {
   "cell_type": "markdown",
   "id": "7c21bb11",
   "metadata": {},
   "source": [
    "# B A S E M O D E L"
   ]
  },
  {
   "cell_type": "code",
   "execution_count": 21,
   "id": "49094792",
   "metadata": {},
   "outputs": [],
   "source": [
    "import statsmodels\n",
    "import statsmodels.api as sm"
   ]
  },
  {
   "cell_type": "code",
   "execution_count": 26,
   "id": "208d7953",
   "metadata": {},
   "outputs": [],
   "source": [
    "MLR_full_model=sm.OLS(y_train,x_train).fit()"
   ]
  },
  {
   "cell_type": "code",
   "execution_count": 27,
   "id": "a743570a",
   "metadata": {},
   "outputs": [
    {
     "name": "stdout",
     "output_type": "stream",
     "text": [
      "                            OLS Regression Results                            \n",
      "==============================================================================\n",
      "Dep. Variable:                  Close   R-squared:                       0.995\n",
      "Model:                            OLS   Adj. R-squared:                  0.995\n",
      "Method:                 Least Squares   F-statistic:                     8697.\n",
      "Date:                Tue, 20 Sep 2022   Prob (F-statistic):          7.03e-145\n",
      "Time:                        19:04:05   Log-Likelihood:                -433.36\n",
      "No. Observations:                 129   AIC:                             874.7\n",
      "Df Residuals:                     125   BIC:                             886.2\n",
      "Df Model:                           3                                         \n",
      "Covariance Type:            nonrobust                                         \n",
      "==============================================================================\n",
      "                 coef    std err          t      P>|t|      [0.025      0.975]\n",
      "------------------------------------------------------------------------------\n",
      "const          1.2689      0.924      1.373      0.172      -0.561       3.099\n",
      "Open          -0.6435      0.064    -10.125      0.000      -0.769      -0.518\n",
      "High           0.6656      0.055     11.999      0.000       0.556       0.775\n",
      "Low            0.9949      0.049     20.460      0.000       0.899       1.091\n",
      "==============================================================================\n",
      "Omnibus:                       27.035   Durbin-Watson:                   2.055\n",
      "Prob(Omnibus):                  0.000   Jarque-Bera (JB):              210.251\n",
      "Skew:                          -0.221   Prob(JB):                     2.21e-46\n",
      "Kurtosis:                       9.239   Cond. No.                         372.\n",
      "==============================================================================\n",
      "\n",
      "Notes:\n",
      "[1] Standard Errors assume that the covariance matrix of the errors is correctly specified.\n"
     ]
    }
   ],
   "source": [
    "print(MLR_full_model.summary())"
   ]
  },
  {
   "cell_type": "markdown",
   "id": "c226c905",
   "metadata": {},
   "source": [
    "#### R-squared : the coefficient of determination. It is the proportion of the variance in the dependent variable that is predictable/explained\n",
    "#### Adj. R-squared : Adjusted R-squared is the modified form of R-squared adjusted for the number of independent variables in the model. Value of adj. R-squared increases, when we include extra variables which actually improve the model.\n",
    "#### F-statistic : the ratio of mean squared error of the model to the mean squared error of residuals. It determines the overall significance of the model.\n",
    "#### coef : the coefficients of the independent variables and the constant term in the equation.\n",
    "#### t : the value of t-statistic. It is the ratio of the difference between the estimated and hypothesized value of a parameter, to the standard error"
   ]
  },
  {
   "cell_type": "markdown",
   "id": "58c5918c",
   "metadata": {},
   "source": [
    "# MODEL EVALUATION"
   ]
  },
  {
   "cell_type": "code",
   "execution_count": 32,
   "id": "03f6edd5",
   "metadata": {},
   "outputs": [
    {
     "name": "stdout",
     "output_type": "stream",
     "text": [
      "Here in Our case R Squre:  0.9952321298883429 percentage target variable explained by Independent variable\n",
      "Here in Our case ADj R Squre:  0.9951177010056631 percentage target values explained by Independent variable\n",
      "Here in Our case Codition number:  371.5968866386382 So the multicolinearity is present in data\n",
      "Durbin Wotson 2.047 So there is no corelation\n"
     ]
    }
   ],
   "source": [
    "#R Squred\n",
    "x=MLR_full_model.rsquared\n",
    "print(\"Here in Our case R Squre: \",x ,\"percentage target variable explained by Independent variable\")\n",
    "\n",
    "#Ad_R_Squred\n",
    "b=MLR_full_model.rsquared_adj\n",
    "print(\"Here in Our case ADj R Squre: \",b ,\"percentage target values explained by Independent variable\")\n",
    "\n",
    "#Condition no\n",
    "z=MLR_full_model.condition_number\n",
    "print(\"Here in Our case Codition number: \",z,\"So the multicolinearity is present in data\")\n",
    "\n",
    "\n",
    "#Durbin Wotson\n",
    "a=2.047\n",
    "print(\"Durbin Wotson\",a ,\"So there is no corelation\")"
   ]
  },
  {
   "cell_type": "markdown",
   "id": "782ef185",
   "metadata": {},
   "source": [
    "# MODEL PERFORMANCE"
   ]
  },
  {
   "cell_type": "code",
   "execution_count": 34,
   "id": "e02dea4f",
   "metadata": {},
   "outputs": [
    {
     "data": {
      "text/plain": [
       "Date\n",
       "Nov-07     46.447157\n",
       "Mar-09     10.433952\n",
       "Jan-13    105.241444\n",
       "Apr-08     31.648390\n",
       "Oct-09     46.208078\n",
       "dtype: float64"
      ]
     },
     "execution_count": 34,
     "metadata": {},
     "output_type": "execute_result"
    }
   ],
   "source": [
    "train_prediced=MLR_full_model.predict(x_train)\n",
    "train_prediced.head()"
   ]
  },
  {
   "cell_type": "code",
   "execution_count": 35,
   "id": "4b1d54ce",
   "metadata": {},
   "outputs": [
    {
     "name": "stdout",
     "output_type": "stream",
     "text": [
      "Mean Absolute Error is 4.29\n",
      "Mean Squred Error is 48.47\n",
      "Root Mean Squred Error is 6.96\n"
     ]
    }
   ],
   "source": [
    "from sklearn.metrics import mean_absolute_error\n",
    "mae=mean_absolute_error(y_train,train_prediced)\n",
    "print(\"Mean Absolute Error is\", round(mae,2))\n",
    "\n",
    "from sklearn.metrics import mean_squared_error\n",
    "mse=mean_squared_error(y_train,train_prediced)\n",
    "print(\"Mean Squred Error is\", round(mse,2))\n",
    "\n",
    "rmse=np.sqrt(mse)\n",
    "print(\"Root Mean Squred Error is\", round(rmse,2))"
   ]
  },
  {
   "cell_type": "code",
   "execution_count": 37,
   "id": "39059018",
   "metadata": {},
   "outputs": [
    {
     "name": "stderr",
     "output_type": "stream",
     "text": [
      "C:\\Python3106\\lib\\site-packages\\seaborn\\_decorators.py:36: FutureWarning: Pass the following variables as keyword args: x, y. From version 0.12, the only valid positional argument will be `data`, and passing other arguments without an explicit keyword will result in an error or misinterpretation.\n",
      "  warnings.warn(\n"
     ]
    },
    {
     "data": {
      "text/plain": [
       "<AxesSubplot:xlabel='Close'>"
      ]
     },
     "execution_count": 37,
     "metadata": {},
     "output_type": "execute_result"
    },
    {
     "data": {
      "image/png": "[encoded data removed]",
      "text/plain": [
       "<Figure size 432x288 with 1 Axes>"
      ]
     },
     "metadata": {
      "needs_background": "light"
     },
     "output_type": "display_data"
    }
   ],
   "source": [
    "sns.scatterplot(target,train_prediced)"
   ]
  },
  {
   "cell_type": "code",
   "execution_count": null,
   "id": "2a2c8fdd",
   "metadata": {},
   "outputs": [],
   "source": []
  }
 ],
 "metadata": {
  "kernelspec": {
   "display_name": "Python 3 (ipykernel)",
   "language": "python",
   "name": "python3"
  },
  "language_info": {
   "codemirror_mode": {
    "name": "ipython",
    "version": 3
   },
   "file_extension": ".py",
   "mimetype": "text/x-python",
   "name": "python",
   "nbconvert_exporter": "python",
   "pygments_lexer": "ipython3",
   "version": "3.10.6"
  }
 },
 "nbformat": 4,
 "nbformat_minor": 5
}
